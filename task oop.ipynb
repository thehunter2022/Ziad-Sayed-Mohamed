{
 "cells": [
  {
   "cell_type": "code",
   "execution_count": 2,
   "id": "c55e08fb-b433-41c4-85c1-d701892c7d82",
   "metadata": {},
   "outputs": [
    {
     "name": "stdout",
     "output_type": "stream",
     "text": [
      "['Ziad', 'Baraa', 'ali']\n",
      "Candidate (Ali) is not on the list\n",
      "Number of votes for Ziad are: 2\n",
      "Number of votes for Baraa are: 3\n",
      "No such candidate!\n",
      "The winner is Baraa with 3 votes.\n"
     ]
    }
   ],
   "source": [
    "class VotingSystem:\n",
    "    def __init__(self):\n",
    "        self.candidates = {}\n",
    "    def add_candidate(self, name):\n",
    "        if name not in self.candidates:\n",
    "            self.candidates[name] = 0\n",
    "\n",
    "    def show_candidates(self):\n",
    "        print(list(self.candidates.keys()))\n",
    "\n",
    "    def vote_for_candidate(self, name):\n",
    "        if name in self.candidates:\n",
    "            self.candidates[name] += 1\n",
    "        else:\n",
    "            print(f\"Candidate ({name}) is not on the list\")\n",
    "\n",
    "    def get_result_of_candidate(self, name):\n",
    "        if name in self.candidates:\n",
    "            print(f\"Number of votes for {name} are: {self.candidates[name]}\")\n",
    "        else:\n",
    "            print(\"No such candidate!\")\n",
    "\n",
    "    def display_winner(self):\n",
    "        if not self.candidates:\n",
    "            print(\"No candidates available!\")\n",
    "            return\n",
    "\n",
    "        winner = max(self.candidates, key=self.candidates.get)\n",
    "        print(f\"The winner is {winner} with {self.candidates[winner]} votes.\")\n",
    "voting = VotingSystem()\n",
    "voting.add_candidate('Ziad')\n",
    "voting.add_candidate('Baraa')\n",
    "voting.add_candidate('ali')\n",
    "voting.show_candidates()\n",
    "\n",
    "voting.vote_for_candidate('Ziad')\n",
    "voting.vote_for_candidate('Baraa')\n",
    "voting.vote_for_candidate('Ziad')\n",
    "voting.vote_for_candidate('Ali')\n",
    "voting.vote_for_candidate('Baraa')\n",
    "voting.vote_for_candidate('Baraa')\n",
    "\n",
    "voting.get_result_of_candidate('Ziad')\n",
    "voting.get_result_of_candidate('Baraa')\n",
    "voting.get_result_of_candidate('Ali')\n",
    "\n",
    "voting.display_winner()\n"
   ]
  },
  {
   "cell_type": "code",
   "execution_count": null,
   "id": "929b1785-5fe9-450f-97bb-d4aae0cfe6a3",
   "metadata": {},
   "outputs": [],
   "source": []
  }
 ],
 "metadata": {
  "kernelspec": {
   "display_name": "Python 3 (ipykernel)",
   "language": "python",
   "name": "python3"
  },
  "language_info": {
   "codemirror_mode": {
    "name": "ipython",
    "version": 3
   },
   "file_extension": ".py",
   "mimetype": "text/x-python",
   "name": "python",
   "nbconvert_exporter": "python",
   "pygments_lexer": "ipython3",
   "version": "3.11.7"
  }
 },
 "nbformat": 4,
 "nbformat_minor": 5
}
