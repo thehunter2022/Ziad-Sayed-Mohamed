{
 "cells": [
  {
   "cell_type": "code",
   "execution_count": 1,
   "id": "ad0c8d5a-5074-4cb6-b0a1-9625e7a9f938",
   "metadata": {},
   "outputs": [
    {
     "name": "stdout",
     "output_type": "stream",
     "text": [
      "Countries containing land:  ['Finland', 'Iceland', 'Ireland', 'Marshall Islands', 'Netherlands', 'New Zealand', 'Poland', 'Solomon Islands', 'Swaziland', 'Switzerland', 'Thailand']\n"
     ]
    }
   ],
   "source": [
    "from countries import countries\n",
    "\n",
    "land = [country for country in countries if \"land\" in country]\n",
    "\n",
    "\n",
    "print(\"Countries containing land: \", land )\n"
   ]
  },
  {
   "cell_type": "code",
   "execution_count": 5,
   "id": "46e859e5-0f66-4911-9240-c4cc63682dbb",
   "metadata": {},
   "outputs": [
    {
     "name": "stdout",
     "output_type": "stream",
     "text": [
      "the mos ten lang taken in world  [('English', 91), ('French', 45), ('Arabic', 25), ('Spanish', 24), ('Portuguese', 9), ('Russian', 9), ('Dutch', 8), ('German', 7), ('Chinese', 5), ('Serbian', 4)]\n"
     ]
    }
   ],
   "source": [
    "from countries_details_dat import countries_data\n",
    "from collections import Counter\n",
    "\n",
    "language_count = Counter(language for country in countries_data for language in country[\"languages\"])\n",
    "most_spoken_languages = language_count.most_common(10)\n",
    "print(\"the most ten lang taken in world \", most_spoken_languages)\n"
   ]
  },
  {
   "cell_type": "code",
   "execution_count": 6,
   "id": "196468f1-7213-40b2-8ba4-fb73d21c39c1",
   "metadata": {},
   "outputs": [
    {
     "name": "stdout",
     "output_type": "stream",
     "text": [
      "the most ten countries populatin: ['China', 'India', 'United States of America', 'Indonesia', 'Brazil', 'Pakistan', 'Nigeria', 'Bangladesh', 'Russian Federation', 'Japan']\n"
     ]
    }
   ],
   "source": [
    "from countries_details_dat import countries_data\n",
    "\n",
    "def get_population(country):\n",
    "    return country[\"population\"]\n",
    "\n",
    "sorted_countries = sorted(countries_data, key=get_population, reverse=True)[:10]\n",
    "populated_countries_names = [country[\"name\"] for country in sorted_countries]\n",
    "\n",
    "print(\"the most ten countries populatin:\", populated_countries_names)\n"
   ]
  },
  {
   "cell_type": "code",
   "execution_count": null,
   "id": "5982e3fd-5e3b-44ac-9bcf-2abaa322dc6e",
   "metadata": {},
   "outputs": [],
   "source": []
  }
 ],
 "metadata": {
  "kernelspec": {
   "display_name": "Python 3 (ipykernel)",
   "language": "python",
   "name": "python3"
  },
  "language_info": {
   "codemirror_mode": {
    "name": "ipython",
    "version": 3
   },
   "file_extension": ".py",
   "mimetype": "text/x-python",
   "name": "python",
   "nbconvert_exporter": "python",
   "pygments_lexer": "ipython3",
   "version": "3.11.7"
  }
 },
 "nbformat": 4,
 "nbformat_minor": 5
}
